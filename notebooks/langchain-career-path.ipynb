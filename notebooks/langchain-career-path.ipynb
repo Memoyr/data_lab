{
 "cells": [
  {
   "attachments": {},
   "cell_type": "markdown",
   "id": "f5816493-697b-4202-966e-de08fc3a6de3",
   "metadata": {},
   "source": [
    "### Summarize jobs skills & requirements with LangChain and GPT4"
   ]
  },
  {
   "attachments": {},
   "cell_type": "markdown",
   "id": "aa0ec41b",
   "metadata": {},
   "source": [
    "This project is a variant from an existing LangChain tutorial.  It connects LangChain & ChatGPT to create a summary of skills to master in order to be selected for a job offer.\n",
    "\n",
    "In this example, I use prebuilt dataset of jobs decriptions that I had previously currated in the field of Machine Learning and Deep Learning. Take note that most of the data that I have found is senior positions, also the dataset is very small (14).\n",
    "\n",
    "I won't share my dataset, but here's the output.\n",
    "\n",
    "\n",
    "# The output\n",
    "\n",
    "\n",
    "## Consolidated Summary\n",
    "\n",
    "The new career path involves a variety of roles such as Deep Learning Researchers, ML Engineers, AI Software Developers, and Senior Software Engineers. These roles require a strong background in computer science, engineering, mathematics, statistics, or a related field with a focus on deep learning, machine learning, or AI. The responsibilities range from designing, building, and testing machine learning models, developing and integrating machine learning models for interactive intent and motion forecasting, implementing revolutionary AI technologies, to mentoring junior developers. The roles require a minimum of 5 years of experience in deep learning or machine learning, with proven experience in successful implementation and optimization of models. The roles also require strong programming skills in Python, experience with deep learning frameworks like TensorFlow, PyTorch, or Keras, and knowledge of big data processing frameworks like Hadoop, Spark, or Flink. Familiarity with the latest developments in Large Language Models (LLMs) and proficiency in other programming languages is also necessary. Exceptional problem-solving, analytical, and critical thinking skills, excellent communication and collaboration skills, and the ability to work effectively in a diverse team environment are also essential.\n",
    "\n",
    "## Consolidated Top Skills and Technologies\n",
    "\n",
    "1. **Deep Learning and Machine Learning**: Knowledge and experience in deep learning and machine learning techniques such as Convolutional Neural Networks (CNN), Recurrent Neural Networks (RNN), Transformers, Reinforcement Learning, and Large Language Models (LLMs).\n",
    "2. **Programming**: Strong programming skills in Python and proficiency in other programming languages like C/C++, Java, Go, PHP, and JavaScript.\n",
    "3. **Deep Learning and Machine Learning Frameworks**: Experience with deep learning and machine learning frameworks such as TensorFlow, PyTorch, Keras, HuggingFace, LangChain, etc.\n",
    "4. **Big Data**: Knowledge of big data processing frameworks such as Hadoop, Spark, or Flink. Experience working with large-scale datasets is essential.\n",
    "5. **Data Integration and Analysis Platforms**: Knowledge of Palantir Foundry or similar data integration and analysis platforms is a plus.\n",
    "7. **Problem-Solving**: Exceptional problem-solving, analytical, and critical thinking skills.\n",
    "8. **Communication**: Excellent communication and collaboration skills, with the ability to work effectively in a diverse team environment.\n",
    "9. **Multi-tasking**: Ability to adapt to a dynamic work environment and manage multiple projects simultaneously.\n",
    "10. **Domain Knowledge**: Knowledge of the geoeconomic domain.\n",
    "11. **Statistical Analysis**: Deep understanding of statistical analysis, probability theory, and experimental design.\n",
    "12. **NLP/LLMs/Deep Learning**: Experience in building NLP/LLMs or Deep Learning models.\n",
    "13. **NLP Techniques**: Expertise in sentiment analysis, word embedding, POS tagging, topic modeling, text classification, machine translation, speech recognition, NER, NLG, etc.\n",
    "14. **Deep Learning Techniques**: Experience with CNNs and RNNs, and understanding of building and training these models.\n",
    "15. **LMs and LLMs**: Familiarity with GPT, BERT, and Transformer models.\n",
    "16. **Research Implementation**: Ability to comprehend and implement AI research papers.\n",
    "17. **Data Handling**: Knowledge and experience in structured and unstructured data Information Extraction, Knowledge Information Retrieval, and Knowledge Representation.\n",
    "18. **Problem-Solving**: Strong problem-solving and analytical skills.\n",
    "19. **Big Data Technologies**: Experience with data engineering technologies such as AWS Glue, EMR, Athena, Redshift, Lake Formation, Apache Spark, Apache Hive, Apache Airflow, S3FS, Apache Hudi, and Trino.\n",
    "20. **Data Pipelines**: The ability to design, build, and maintain scalable and efficient data pipelines.\n",
    "21. **AngularJS**: Experience in developing and maintaining web applications using AngularJS.\n",
    "22. **DevOps**: Knowledge of DevOps best practices, including CI/CD pipelines using tools like Terraform, Jenkins, Github actions, Gitflow.\n",
    "23. **AWS**: Familiarity with AWS and its services like Cognito for user authentication and authorization.\n",
    "24. **HTML, CSS, and JavaScript**: A strong understanding of these web development technologies.\n",
    "25. **RESTful APIs and JSON**: Experience working with these.\n",
    "26. **Microservices Architecture**: Familiarity with this architecture.\n",
    "27. **Data Management**: Experience in managing data-related concerns like data catalog, data lineage, data quality, data profiling, data discovery, and metadata management.\n",
    "28. **Engineering and Computer Science Fundamentals**: A degree in CS, Math, or equivalent experience.\n",
    "29. **Neural Network Architectures**: Expertise in implementing large neural-network architectures such as Transformers.\n",
    "30. **Cloud Computing**: The ability to adapt algorithms and architectures to modern cloud computing environments (GPUs/TPUs).\n",
    "31. **MLOps Tools**: Experience with CloudML and MLOps tools like Kubeflow, AWS Sagemaker, Google AI Platform, Azure Machine Learning.\n",
    "32. **Communication Skills**: Excellent communication skills.\n",
    "33. **NLP Libraries**: Experience with NLP libraries such as NLTK, spaCy, or Transformers.\n",
    "34. **Chatbot Development Tools**: Knowledge of chatbot development tools such as Dialogflow, Botpress, or Rasa.\n",
    "35. **Analytical and Problem-Solving Skills**: Strong analytical and problem-solving skills.\n",
    "36. **Communication and Interpersonal Skills**: Excellent communication and interpersonal skills.\n",
    "37. **Attention to Detail**: Strong attention to detail.\n",
    "38. **Project Management**: Experience in project management and project delivery methodologies.\n",
    "39. **React, Redux, and/or Typescript**: Experience with these technologies.\n",
    "40. **GitHub**: Experience with GitHub development workflow.\n",
    "41. **Unix-based development environment**: Professional experience in this environment.\n",
    "42. **Matlab**: Experience with Matlab.\n",
    "43. **Data visualization software development**: This skill.\n",
    "44. **Databasing experience**: This includes the design of scalable data handling solutions.\n",
    "\n",
    "## Optional but Beneficial Skills\n",
    "\n",
    "1. **Large-Scale Data Processing**: Experience with technologies like Hadoop, Spark, and distributed computing systems.\n",
    "2. **Familiarity with technology stacks such as AWS, Kubernetes, Docker, Kubeflow, Ray, Tensorflow, PyTorch**.\n",
    "\n",
    "## Suggestions\n",
    "\n",
    "To prepare for these roles, consider taking advanced courses in deep learning and machine learning, and gain hands-on experience with Python and deep learning frameworks like TensorFlow, PyTorch, or Keras. Familiarize yourself with big data processing frameworks like Hadoop, Spark, or Flink. Enhance your problem-solving and communication skills. Stay updated with the latest developments in Machine Learning, particularly Large Language Models (LLMs). Practice using Machine Learning software tools and libraries such as TensorFlow, PyTorch, HuggingFace, LangChain, etc. Lastly, develop an understanding of the geoeconomic domain.\n"
   ]
  },
  {
   "cell_type": "code",
   "execution_count": null,
   "id": "8a91e13f-63db-4e49-a46b-5d7adaa1680c",
   "metadata": {},
   "outputs": [],
   "source": [
    "!pip install openai\n",
    "!pip install tiktoken"
   ]
  },
  {
   "cell_type": "code",
   "execution_count": 2,
   "id": "4d70ccf7-561f-4fd2-a8bb-4e20cf65b250",
   "metadata": {},
   "outputs": [],
   "source": [
    "# LLMs\n",
    "from langchain import PromptTemplate\n",
    "from langchain.llms import OpenAI\n",
    "from langchain.chat_models import ChatOpenAI\n",
    "from langchain.text_splitter import RecursiveCharacterTextSplitter\n",
    "from langchain.chains.summarize import load_summarize_chain\n",
    "from langchain.prompts import PromptTemplate\n",
    "\n",
    "# load files\n",
    "from langchain.document_loaders import UnstructuredFileLoader\n",
    "from langchain.document_loaders import DirectoryLoader\n",
    "\n",
    "# Environment Variables\n",
    "import os\n",
    "from os.path import join, dirname\n",
    "from dotenv import load_dotenv\n"
   ]
  },
  {
   "cell_type": "code",
   "execution_count": null,
   "id": "0a15eb5b-d719-4625-a33f-b14c228018f5",
   "metadata": {},
   "outputs": [],
   "source": [
    "# Link environement vars\n",
    "NOTEBOOK_DIR = os.path.dirname(os.path.abspath('')) + '/projet'\n",
    "ROOT_DIR = os.path.dirname(os.path.abspath('..'))\n",
    "ENV_DIR = ROOT_DIR + '../env'\n",
    "dotenv_path = join(ENV_DIR, '.env.local')\n",
    "\n",
    "load_dotenv(dotenv_path)\n"
   ]
  },
  {
   "cell_type": "code",
   "execution_count": 4,
   "id": "ab562f10-f7d5-4bed-ae88-72ac32912321",
   "metadata": {},
   "outputs": [],
   "source": [
    "OPENAI_API_KEY = os.getenv('OPENAI_API_KEY')\n",
    "DATA_DIR = NOTEBOOK_DIR + '/data/'"
   ]
  },
  {
   "cell_type": "code",
   "execution_count": null,
   "id": "a29f02dd-953c-4f88-8f45-cce44e68b727",
   "metadata": {},
   "outputs": [],
   "source": [
    "# Combine all text files in one single string\n",
    "loader = DirectoryLoader(DATA_DIR, glob=\"**/*.txt\", show_progress=True)\n",
    "docs = loader.load()\n",
    "len(docs)"
   ]
  },
  {
   "cell_type": "code",
   "execution_count": 18,
   "id": "470a59ec-0738-45a3-966f-f21c13531dd4",
   "metadata": {},
   "outputs": [],
   "source": [
    "map_prompt = \"\"\"You are a helpful AI bot that aids a person find skills to master to build a new carreer path.\n",
    "Below is information about the role.\n",
    "Information will include job descriptions and skills requirements.\n",
    "Your goal is to generate a list of top skills and technologies the person need to be qualified with.\n",
    "Use specifics from the research when possible\n",
    "\n",
    "% START OF INFORMATION:\n",
    "{text}\n",
    "% END OF INFORMATION:\n",
    "\n",
    "Please respond with a summary, a list and suggestions based on the topics above\n",
    "\n",
    "YOUR RESPONSE:\"\"\"\n",
    "map_prompt_template = PromptTemplate(template=map_prompt, input_variables=[\"text\"])"
   ]
  },
  {
   "cell_type": "code",
   "execution_count": 19,
   "id": "3f129ec9-5cc7-4ce5-b801-8d8c1ee6c317",
   "metadata": {},
   "outputs": [],
   "source": [
    "combine_prompt = \"\"\"\n",
    "You are a helpful AI bot that aids a build a new carreer path comming from an experienced front-end software engineer.\n",
    "You will be given a summary of roles, suggestions, and a list of potential top skills and technologies the person need to be qualified with.\n",
    "\n",
    "Please consolidate the informations about all the different roles and create one list of skills and one summary from all the content you've received.\n",
    "\n",
    "Respond in markdown format.\n",
    "\n",
    "% SUMMARY AND LIST\n",
    "{text}\n",
    "\"\"\"\n",
    "combine_prompt_template = PromptTemplate(template=combine_prompt, input_variables=[\"text\"])\n"
   ]
  },
  {
   "cell_type": "code",
   "execution_count": 20,
   "id": "12fd1b54-5ee3-4971-a14f-3921c61c0514",
   "metadata": {},
   "outputs": [],
   "source": [
    "llm = ChatOpenAI(temperature=0, model_name='gpt-4')\n",
    "\n",
    "chain = load_summarize_chain(llm,\n",
    "                             chain_type=\"map_reduce\",\n",
    "                             map_prompt=map_prompt_template,\n",
    "                             combine_prompt=combine_prompt_template,\n",
    "                             verbose=True\n",
    "                            )\n",
    "\n"
   ]
  },
  {
   "cell_type": "code",
   "execution_count": null,
   "id": "55a66abf-c5af-4f2a-9a47-6b01a6226e6a",
   "metadata": {},
   "outputs": [],
   "source": [
    "output = chain({\"input_documents\": docs})"
   ]
  },
  {
   "cell_type": "code",
   "execution_count": null,
   "id": "a0aa4046-8c84-4215-91f5-eae6586c8f8a",
   "metadata": {},
   "outputs": [],
   "source": [
    "print (output['output_text'])"
   ]
  },
  {
   "cell_type": "code",
   "execution_count": 23,
   "id": "bc2e638d-323b-4b03-a0dd-04c0f264549e",
   "metadata": {},
   "outputs": [],
   "source": [
    "with open(\"out-result-skills-to-master.md\", \"w\") as text_file:\n",
    "    text_file.write(output['output_text'])\n"
   ]
  },
  {
   "cell_type": "code",
   "execution_count": null,
   "id": "7ecfc35d-3633-421e-9dbf-39a947c56361",
   "metadata": {},
   "outputs": [],
   "source": []
  }
 ],
 "metadata": {
  "kernelspec": {
   "display_name": "Python 3 (ipykernel)",
   "language": "python",
   "name": "python3"
  },
  "language_info": {
   "codemirror_mode": {
    "name": "ipython",
    "version": 3
   },
   "file_extension": ".py",
   "mimetype": "text/x-python",
   "name": "python",
   "nbconvert_exporter": "python",
   "pygments_lexer": "ipython3",
   "version": "3.10.12"
  }
 },
 "nbformat": 4,
 "nbformat_minor": 5
}
